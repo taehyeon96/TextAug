{
 "cells": [
  {
   "cell_type": "markdown",
   "id": "8db6463c",
   "metadata": {},
   "source": [
    "## 경로 확인\n",
    "---"
   ]
  },
  {
   "cell_type": "code",
   "execution_count": 1,
   "id": "0459f20b",
   "metadata": {},
   "outputs": [
    {
     "name": "stdout",
     "output_type": "stream",
     "text": [
      "/home/delabgpu/Tae_StudyCode\r\n"
     ]
    }
   ],
   "source": [
    "!pwd"
   ]
  },
  {
   "cell_type": "code",
   "execution_count": 2,
   "id": "52b3151c",
   "metadata": {},
   "outputs": [
    {
     "name": "stdout",
     "output_type": "stream",
     "text": [
      "/home/delabgpu/Tae_StudyCode/TransformersDataAugmentation/src/utils/datasets/L2\n"
     ]
    }
   ],
   "source": [
    "%cd TransformersDataAugmentation/src/utils/datasets/L2"
   ]
  },
  {
   "cell_type": "markdown",
   "id": "10e87292",
   "metadata": {},
   "source": [
    "## Augmentation 결과 불러오기\n",
    "- exp_{i}_10 에 저장된 각각의 결과를 불러옴\n",
    "---"
   ]
  },
  {
   "cell_type": "code",
   "execution_count": 3,
   "id": "14440134",
   "metadata": {},
   "outputs": [],
   "source": [
    "import pandas as pd\n"
   ]
  },
  {
   "cell_type": "code",
   "execution_count": 4,
   "id": "1df4c664",
   "metadata": {
    "collapsed": true
   },
   "outputs": [
    {
     "name": "stdout",
     "output_type": "stream",
     "text": [
      "/home/delabgpu/Tae_StudyCode/TransformersDataAugmentation/src/utils/datasets/L2/exp_0_10/cmodbertp\n",
      "/home/delabgpu/Tae_StudyCode/TransformersDataAugmentation/src/utils/datasets/L2\n",
      "#########  [  0 번째 완료 ]  ######\n",
      "/home/delabgpu/Tae_StudyCode/TransformersDataAugmentation/src/utils/datasets/L2/exp_1_10/cmodbertp\n",
      "/home/delabgpu/Tae_StudyCode/TransformersDataAugmentation/src/utils/datasets/L2\n",
      "#########  [  1 번째 완료 ]  ######\n",
      "/home/delabgpu/Tae_StudyCode/TransformersDataAugmentation/src/utils/datasets/L2/exp_2_10/cmodbertp\n",
      "/home/delabgpu/Tae_StudyCode/TransformersDataAugmentation/src/utils/datasets/L2\n",
      "#########  [  2 번째 완료 ]  ######\n",
      "/home/delabgpu/Tae_StudyCode/TransformersDataAugmentation/src/utils/datasets/L2/exp_3_10/cmodbertp\n",
      "/home/delabgpu/Tae_StudyCode/TransformersDataAugmentation/src/utils/datasets/L2\n",
      "#########  [  3 번째 완료 ]  ######\n",
      "/home/delabgpu/Tae_StudyCode/TransformersDataAugmentation/src/utils/datasets/L2/exp_4_10/cmodbertp\n",
      "/home/delabgpu/Tae_StudyCode/TransformersDataAugmentation/src/utils/datasets/L2\n",
      "#########  [  4 번째 완료 ]  ######\n",
      "/home/delabgpu/Tae_StudyCode/TransformersDataAugmentation/src/utils/datasets/L2/exp_5_10/cmodbertp\n",
      "/home/delabgpu/Tae_StudyCode/TransformersDataAugmentation/src/utils/datasets/L2\n",
      "#########  [  5 번째 완료 ]  ######\n",
      "/home/delabgpu/Tae_StudyCode/TransformersDataAugmentation/src/utils/datasets/L2/exp_6_10/cmodbertp\n",
      "/home/delabgpu/Tae_StudyCode/TransformersDataAugmentation/src/utils/datasets/L2\n",
      "#########  [  6 번째 완료 ]  ######\n",
      "/home/delabgpu/Tae_StudyCode/TransformersDataAugmentation/src/utils/datasets/L2/exp_7_10/cmodbertp\n",
      "/home/delabgpu/Tae_StudyCode/TransformersDataAugmentation/src/utils/datasets/L2\n",
      "#########  [  7 번째 완료 ]  ######\n",
      "/home/delabgpu/Tae_StudyCode/TransformersDataAugmentation/src/utils/datasets/L2/exp_8_10/cmodbertp\n",
      "/home/delabgpu/Tae_StudyCode/TransformersDataAugmentation/src/utils/datasets/L2\n",
      "#########  [  8 번째 완료 ]  ######\n",
      "/home/delabgpu/Tae_StudyCode/TransformersDataAugmentation/src/utils/datasets/L2/exp_9_10/cmodbertp\n",
      "/home/delabgpu/Tae_StudyCode/TransformersDataAugmentation/src/utils/datasets/L2\n",
      "#########  [  9 번째 완료 ]  ######\n",
      "/home/delabgpu/Tae_StudyCode/TransformersDataAugmentation/src/utils/datasets/L2/exp_10_10/cmodbertp\n",
      "/home/delabgpu/Tae_StudyCode/TransformersDataAugmentation/src/utils/datasets/L2\n",
      "#########  [  10 번째 완료 ]  ######\n",
      "/home/delabgpu/Tae_StudyCode/TransformersDataAugmentation/src/utils/datasets/L2/exp_11_10/cmodbertp\n",
      "/home/delabgpu/Tae_StudyCode/TransformersDataAugmentation/src/utils/datasets/L2\n",
      "#########  [  11 번째 완료 ]  ######\n",
      "/home/delabgpu/Tae_StudyCode/TransformersDataAugmentation/src/utils/datasets/L2/exp_12_10/cmodbertp\n",
      "/home/delabgpu/Tae_StudyCode/TransformersDataAugmentation/src/utils/datasets/L2\n",
      "#########  [  12 번째 완료 ]  ######\n",
      "/home/delabgpu/Tae_StudyCode/TransformersDataAugmentation/src/utils/datasets/L2/exp_13_10/cmodbertp\n",
      "/home/delabgpu/Tae_StudyCode/TransformersDataAugmentation/src/utils/datasets/L2\n",
      "#########  [  13 번째 완료 ]  ######\n",
      "/home/delabgpu/Tae_StudyCode/TransformersDataAugmentation/src/utils/datasets/L2/exp_14_10/cmodbertp\n",
      "/home/delabgpu/Tae_StudyCode/TransformersDataAugmentation/src/utils/datasets/L2\n",
      "#########  [  14 번째 완료 ]  ######\n"
     ]
    }
   ],
   "source": [
    "result = pd.DataFrame(index=range(0,0), columns=['Description', 'data'])\n",
    "\n",
    "for j in range(15):    \n",
    "    %cd exp_{j}_10/cmodbertp\n",
    "    raw_dataset = pd.read_csv(\"cmodbertp_aug.tsv\", delimiter='\\t', names=['Description', 'data'], header=None)\n",
    "    result = pd.concat([result,raw_dataset])\n",
    "    %cd ../../\n",
    "    print(\"#########  [ \", j, \"번째 완료 ]  ######\")"
   ]
  },
  {
   "cell_type": "code",
   "execution_count": 5,
   "id": "1b515fef",
   "metadata": {
    "collapsed": true
   },
      "outputs": [
    {
     "data": {
      "text/html": [
       "<div>\n",
       "<style scoped>\n",
       "    .dataframe tbody tr th:only-of-type {\n",
       "        vertical-align: middle;\n",
       "    }\n",
       "\n",
       "    .dataframe tbody tr th {\n",
       "        vertical-align: top;\n",
       "    }\n",
       "\n",
       "    .dataframe thead th {\n",
       "        text-align: right;\n",
       "    }\n",
       "</style>\n",
       "<table border=\"1\" class=\"dataframe\">\n",
       "  <thead>\n",
       "    <tr style=\"text-align: right;\">\n",
       "      <th></th>\n",
       "      <th>Description</th>\n",
       "      <th>data</th>\n",
       "    </tr>\n",
       "  </thead>\n",
       "  <tbody>\n",
       "    <tr>\n",
       "      <th>0</th>\n",
       "      <td>Description</td>\n",
       "      <td>the park opened in and there is still a draw f...</td>\n",
       "    </tr>\n",
       "    <tr>\n",
       "      <th>1</th>\n",
       "      <td>Description</td>\n",
       "      <td>the first loopless roller coaster the first lo...</td>\n",
       "    </tr>\n",
       "    <tr>\n",
       "      <th>2</th>\n",
       "      <td>Description</td>\n",
       "      <td>the origins of the carousel the first carousel...</td>\n",
       "    </tr>\n",
       "    <tr>\n",
       "      <th>3</th>\n",
       "      <td>Description</td>\n",
       "      <td>on the basis of the research findings , studen...</td>\n",
       "    </tr>\n",
       "    <tr>\n",
       "      <th>4</th>\n",
       "      <td>Description</td>\n",
       "      <td>the main amusement park the oldest operating a...</td>\n",
       "    </tr>\n",
       "    <tr>\n",
       "      <th>...</th>\n",
       "      <td>...</td>\n",
       "      <td>...</td>\n",
       "    </tr>\n",
       "    <tr>\n",
       "      <th>3517</th>\n",
       "      <td>Description</td>\n",
       "      <td>i ' m looking forward to seeing you dance .</td>\n",
       "    </tr>\n",
       "    <tr>\n",
       "      <th>3518</th>\n",
       "      <td>Description</td>\n",
       "      <td>speaking strategy expressing interest or surpr...</td>\n",
       "    </tr>\n",
       "    <tr>\n",
       "      <th>3519</th>\n",
       "      <td>Description</td>\n",
       "      <td>romeo juliet at the school theater spelling be...</td>\n",
       "    </tr>\n",
       "    <tr>\n",
       "      <th>3520</th>\n",
       "      <td>Description</td>\n",
       "      <td>i ' m going to dance at the school festival .</td>\n",
       "    </tr>\n",
       "    <tr>\n",
       "      <th>3521</th>\n",
       "      <td>Description</td>\n",
       "      <td>wow , that ' s great !</td>\n",
       "    </tr>\n",
       "  </tbody>\n",
       "</table>\n",
       "<p>52830 rows × 2 columns</p>\n",
       "</div>"
      ],
      "text/plain": [
       "      Description                                               data\n",
       "0     Description  the park opened in and there is still a draw f...\n",
       "1     Description  the first loopless roller coaster the first lo...\n",
       "2     Description  the origins of the carousel the first carousel...\n",
       "3     Description  on the basis of the research findings , studen...\n",
       "4     Description  the main amusement park the oldest operating a...\n",
       "...           ...                                                ...\n",
       "3517  Description        i ' m looking forward to seeing you dance .\n",
       "3518  Description  speaking strategy expressing interest or surpr...\n",
       "3519  Description  romeo juliet at the school theater spelling be...\n",
       "3520  Description      i ' m going to dance at the school festival .\n",
       "3521  Description                             wow , that ' s great !\n",
       "\n",
       "[52830 rows x 2 columns]"
      ]
     },
     "execution_count": 5,
     "metadata": {},
     "output_type": "execute_result"
    }
   ],
   "source": [
    "''' 가져온 결과 확인 '''\n",
    "len(result)\n",
    "\n",
    "result"
   ]
  },
  {
   "cell_type": "markdown",
   "id": "ed267a51",
   "metadata": {},
   "source": [
    "## .tsv 파일로 저장\n",
    "---"
   ]
  },
  {
   "cell_type": "code",
   "execution_count": 29,
   "id": "010d2d4f",
   "metadata": {},
   "outputs": [],
   "source": [
    "result.to_csv('L2_Aug_one-fifth_result.tsv', index=False, header=None, sep=\"\\t\")"
   ]
  },
  {
   "cell_type": "markdown",
   "id": "eca14914",
   "metadata": {},
   "source": [
    "## 전체 데이터셋을 나눠서 증강한 경우 Aggregation하여 .tsv로 저장\n",
    "---"
   ]
  },
  {
   "cell_type": "code",
   "execution_count": 7,
   "id": "a682bccb",
   "metadata": {},
   "outputs": [
    {
     "name": "stdout",
     "output_type": "stream",
     "text": [
      "/home/delabgpu/Tae_StudyCode/TransformersDataAugmentation/src/utils/datasets/L2\r\n"
     ]
    }
   ],
   "source": [
    "!pwd"
   ]
  },
  {
   "cell_type": "code",
   "execution_count": 8,
   "id": "4ed066a9",
   "metadata": {},
   "outputs": [
    {
     "data": {
      "text/html": [
       "<div>\n",
       "<style scoped>\n",
       "    .dataframe tbody tr th:only-of-type {\n",
       "        vertical-align: middle;\n",
       "    }\n",
       "\n",
       "    .dataframe tbody tr th {\n",
       "        vertical-align: top;\n",
       "    }\n",
       "\n",
       "    .dataframe thead th {\n",
       "        text-align: right;\n",
       "    }\n",
       "</style>\n",
       "<table border=\"1\" class=\"dataframe\">\n",
       "  <thead>\n",
       "    <tr style=\"text-align: right;\">\n",
       "      <th></th>\n",
       "      <th>Description</th>\n",
       "      <th>data</th>\n",
       "    </tr>\n",
       "  </thead>\n",
       "  <tbody>\n",
       "    <tr>\n",
       "      <th>0</th>\n",
       "      <td>Description</td>\n",
       "      <td>we encourage you to take advantage of this .</td>\n",
       "    </tr>\n",
       "    <tr>\n",
       "      <th>1</th>\n",
       "      <td>Description</td>\n",
       "      <td>the program has always been very popular among...</td>\n",
       "    </tr>\n",
       "    <tr>\n",
       "      <th>2</th>\n",
       "      <td>Description</td>\n",
       "      <td>registration opens from there for three days o...</td>\n",
       "    </tr>\n",
       "    <tr>\n",
       "      <th>3</th>\n",
       "      <td>Description</td>\n",
       "      <td>once you are here , we will prepare you into a...</td>\n",
       "    </tr>\n",
       "    <tr>\n",
       "      <th>4</th>\n",
       "      <td>Description</td>\n",
       "      <td>we are sure that they will be satisfied with o...</td>\n",
       "    </tr>\n",
       "    <tr>\n",
       "      <th>...</th>\n",
       "      <td>...</td>\n",
       "      <td>...</td>\n",
       "    </tr>\n",
       "    <tr>\n",
       "      <th>52825</th>\n",
       "      <td>Description</td>\n",
       "      <td>i ' m looking forward to seeing you dance .</td>\n",
       "    </tr>\n",
       "    <tr>\n",
       "      <th>52826</th>\n",
       "      <td>Description</td>\n",
       "      <td>speaking strategy expressing interest or surpr...</td>\n",
       "    </tr>\n",
       "    <tr>\n",
       "      <th>52827</th>\n",
       "      <td>Description</td>\n",
       "      <td>romeo juliet at the school theater spelling be...</td>\n",
       "    </tr>\n",
       "    <tr>\n",
       "      <th>52828</th>\n",
       "      <td>Description</td>\n",
       "      <td>i ' m going to dance at the school festival .</td>\n",
       "    </tr>\n",
       "    <tr>\n",
       "      <th>52829</th>\n",
       "      <td>Description</td>\n",
       "      <td>wow , that ' s great !</td>\n",
       "    </tr>\n",
       "  </tbody>\n",
       "</table>\n",
       "<p>264150 rows × 2 columns</p>\n",
       "</div>"
      ],
      "text/plain": [
       "       Description                                               data\n",
       "0      Description       we encourage you to take advantage of this .\n",
       "1      Description  the program has always been very popular among...\n",
       "2      Description  registration opens from there for three days o...\n",
       "3      Description  once you are here , we will prepare you into a...\n",
       "4      Description  we are sure that they will be satisfied with o...\n",
       "...            ...                                                ...\n",
       "52825  Description        i ' m looking forward to seeing you dance .\n",
       "52826  Description  speaking strategy expressing interest or surpr...\n",
       "52827  Description  romeo juliet at the school theater spelling be...\n",
       "52828  Description      i ' m going to dance at the school festival .\n",
       "52829  Description                             wow , that ' s great !\n",
       "\n",
       "[264150 rows x 2 columns]"
      ]
     },
     "execution_count": 8,
     "metadata": {},
     "output_type": "execute_result"
    }
   ],
   "source": [
    "\n",
    "total_result = pd.DataFrame(index=range(0,0), columns=['Description', 'data'])\n",
    "\n",
    "\n",
    "total_raw_dataset = pd.read_csv(\"L2_Aug_one-fifth_result.tsv\", delimiter='\\t', names=['Description', 'data'], header=None)\n",
    "total_result = pd.concat([total_result,total_raw_dataset])\n",
    "\n",
    "total_raw_dataset = pd.read_csv(\"L2_cmobertp_Aug_5-1 to 5-2_result.tsv\", delimiter='\\t', names=['Description', 'data'], header=None)\n",
    "total_result = pd.concat([total_result,total_raw_dataset])\n",
    "\n",
    "total_raw_dataset = pd.read_csv(\"L2_cmobertp_Aug_5-2 to 5-3_result.tsv\", delimiter='\\t', names=['Description', 'data'], header=None)\n",
    "total_result = pd.concat([total_result,total_raw_dataset])\n",
    "\n",
    "total_raw_dataset = pd.read_csv(\"L2_cmobertp_Aug_5-3 to 5-4_result.tsv\", delimiter='\\t', names=['Description', 'data'], header=None)\n",
    "total_result = pd.concat([total_result,total_raw_dataset])\n",
    "\n",
    "total_raw_dataset = pd.read_csv(\"L2_cmobertp_Aug_5-4 to 5-5_result.tsv\", delimiter='\\t', names=['Description', 'data'], header=None)\n",
    "total_result = pd.concat([total_result,total_raw_dataset])\n",
    "\n",
    "total_result"
   ]
  },
  {
   "cell_type": "code",
   "execution_count": 9,
   "id": "5a5e6796",
   "metadata": {},
   "outputs": [],
   "source": [
    "''' 최종 증강 결과물 저장 '''\n",
    "total_result.to_csv('BERT_Aug_Total_result.tsv', index=False, header=None, sep=\"\\t\")\n"
   ]
  }
 ],
 "metadata": {
  "kernelspec": {
   "display_name": "Python 3",
   "language": "python",
   "name": "python3"
  },
  "language_info": {
   "codemirror_mode": {
    "name": "ipython",
    "version": 3
   },
   "file_extension": ".py",
   "mimetype": "text/x-python",
   "name": "python",
   "nbconvert_exporter": "python",
   "pygments_lexer": "ipython3",
   "version": "3.7.1"
  }
 },
 "nbformat": 4,
 "nbformat_minor": 5
}
